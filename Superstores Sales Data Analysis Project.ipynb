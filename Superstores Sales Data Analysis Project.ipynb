{
 "cells": [
  {
   "cell_type": "markdown",
   "id": "d416f988-e1b3-41be-bf9c-46871095a4aa",
   "metadata": {},
   "source": [
    "**EFG Wholesales Company** \n",
    "\n",
    "**24/06/2025**\n",
    "\n",
    "**Data Analyst - Oluwatoyin Egunjobi**\n",
    "\n",
    "\n",
    "**Primary Business Problem:**\n",
    "\n",
    "\"How can we optimize our customer acquisition and retention strategies to maximize revenue growth across different customer segments while efficiently allocating marketing resources?\"\n",
    "\n"
   ]
  },
  {
   "cell_type": "code",
   "execution_count": 2,
   "id": "45fb510b-5312-4b0e-9a50-869d25860365",
   "metadata": {},
   "outputs": [],
   "source": [
    "import pandas as pd"
   ]
  },
  {
   "cell_type": "code",
   "execution_count": 20,
   "id": "3c8280b0-2074-4773-afc8-4d60d0040abc",
   "metadata": {},
   "outputs": [],
   "source": [
    "import numpy as np\n",
    "import matplotlib.pyplot as plt\n",
    "import seaborn as sns"
   ]
  },
  {
   "cell_type": "code",
   "execution_count": 8,
   "id": "59e5f29c-a85b-4a5b-b7d1-5c851de66fed",
   "metadata": {},
   "outputs": [],
   "source": [
    "df = pd.read_csv (r\"train.csv\")"
   ]
  },
  {
   "cell_type": "code",
   "execution_count": 10,
   "id": "74496c04-f687-4c89-8b39-dceee54046b0",
   "metadata": {},
   "outputs": [
    {
     "data": {
      "text/html": [
       "<div>\n",
       "<style scoped>\n",
       "    .dataframe tbody tr th:only-of-type {\n",
       "        vertical-align: middle;\n",
       "    }\n",
       "\n",
       "    .dataframe tbody tr th {\n",
       "        vertical-align: top;\n",
       "    }\n",
       "\n",
       "    .dataframe thead th {\n",
       "        text-align: right;\n",
       "    }\n",
       "</style>\n",
       "<table border=\"1\" class=\"dataframe\">\n",
       "  <thead>\n",
       "    <tr style=\"text-align: right;\">\n",
       "      <th></th>\n",
       "      <th>Row ID</th>\n",
       "      <th>Order ID</th>\n",
       "      <th>Order Date</th>\n",
       "      <th>Ship Date</th>\n",
       "      <th>Ship Mode</th>\n",
       "      <th>Customer ID</th>\n",
       "      <th>Customer Name</th>\n",
       "      <th>Segment</th>\n",
       "      <th>Country</th>\n",
       "      <th>City</th>\n",
       "      <th>State</th>\n",
       "      <th>Postal Code</th>\n",
       "      <th>Region</th>\n",
       "      <th>Product ID</th>\n",
       "      <th>Category</th>\n",
       "      <th>Sub-Category</th>\n",
       "      <th>Product Name</th>\n",
       "      <th>Sales</th>\n",
       "    </tr>\n",
       "  </thead>\n",
       "  <tbody>\n",
       "    <tr>\n",
       "      <th>0</th>\n",
       "      <td>1</td>\n",
       "      <td>CA-2017-152156</td>\n",
       "      <td>08/11/2017</td>\n",
       "      <td>11/11/2017</td>\n",
       "      <td>Second Class</td>\n",
       "      <td>CG-12520</td>\n",
       "      <td>Claire Gute</td>\n",
       "      <td>Consumer</td>\n",
       "      <td>United States</td>\n",
       "      <td>Henderson</td>\n",
       "      <td>Kentucky</td>\n",
       "      <td>42420.0</td>\n",
       "      <td>South</td>\n",
       "      <td>FUR-BO-10001798</td>\n",
       "      <td>Furniture</td>\n",
       "      <td>Bookcases</td>\n",
       "      <td>Bush Somerset Collection Bookcase</td>\n",
       "      <td>261.9600</td>\n",
       "    </tr>\n",
       "    <tr>\n",
       "      <th>1</th>\n",
       "      <td>2</td>\n",
       "      <td>CA-2017-152156</td>\n",
       "      <td>08/11/2017</td>\n",
       "      <td>11/11/2017</td>\n",
       "      <td>Second Class</td>\n",
       "      <td>CG-12520</td>\n",
       "      <td>Claire Gute</td>\n",
       "      <td>Consumer</td>\n",
       "      <td>United States</td>\n",
       "      <td>Henderson</td>\n",
       "      <td>Kentucky</td>\n",
       "      <td>42420.0</td>\n",
       "      <td>South</td>\n",
       "      <td>FUR-CH-10000454</td>\n",
       "      <td>Furniture</td>\n",
       "      <td>Chairs</td>\n",
       "      <td>Hon Deluxe Fabric Upholstered Stacking Chairs,...</td>\n",
       "      <td>731.9400</td>\n",
       "    </tr>\n",
       "    <tr>\n",
       "      <th>2</th>\n",
       "      <td>3</td>\n",
       "      <td>CA-2017-138688</td>\n",
       "      <td>12/06/2017</td>\n",
       "      <td>16/06/2017</td>\n",
       "      <td>Second Class</td>\n",
       "      <td>DV-13045</td>\n",
       "      <td>Darrin Van Huff</td>\n",
       "      <td>Corporate</td>\n",
       "      <td>United States</td>\n",
       "      <td>Los Angeles</td>\n",
       "      <td>California</td>\n",
       "      <td>90036.0</td>\n",
       "      <td>West</td>\n",
       "      <td>OFF-LA-10000240</td>\n",
       "      <td>Office Supplies</td>\n",
       "      <td>Labels</td>\n",
       "      <td>Self-Adhesive Address Labels for Typewriters b...</td>\n",
       "      <td>14.6200</td>\n",
       "    </tr>\n",
       "    <tr>\n",
       "      <th>3</th>\n",
       "      <td>4</td>\n",
       "      <td>US-2016-108966</td>\n",
       "      <td>11/10/2016</td>\n",
       "      <td>18/10/2016</td>\n",
       "      <td>Standard Class</td>\n",
       "      <td>SO-20335</td>\n",
       "      <td>Sean O'Donnell</td>\n",
       "      <td>Consumer</td>\n",
       "      <td>United States</td>\n",
       "      <td>Fort Lauderdale</td>\n",
       "      <td>Florida</td>\n",
       "      <td>33311.0</td>\n",
       "      <td>South</td>\n",
       "      <td>FUR-TA-10000577</td>\n",
       "      <td>Furniture</td>\n",
       "      <td>Tables</td>\n",
       "      <td>Bretford CR4500 Series Slim Rectangular Table</td>\n",
       "      <td>957.5775</td>\n",
       "    </tr>\n",
       "    <tr>\n",
       "      <th>4</th>\n",
       "      <td>5</td>\n",
       "      <td>US-2016-108966</td>\n",
       "      <td>11/10/2016</td>\n",
       "      <td>18/10/2016</td>\n",
       "      <td>Standard Class</td>\n",
       "      <td>SO-20335</td>\n",
       "      <td>Sean O'Donnell</td>\n",
       "      <td>Consumer</td>\n",
       "      <td>United States</td>\n",
       "      <td>Fort Lauderdale</td>\n",
       "      <td>Florida</td>\n",
       "      <td>33311.0</td>\n",
       "      <td>South</td>\n",
       "      <td>OFF-ST-10000760</td>\n",
       "      <td>Office Supplies</td>\n",
       "      <td>Storage</td>\n",
       "      <td>Eldon Fold 'N Roll Cart System</td>\n",
       "      <td>22.3680</td>\n",
       "    </tr>\n",
       "  </tbody>\n",
       "</table>\n",
       "</div>"
      ],
      "text/plain": [
       "   Row ID        Order ID  Order Date   Ship Date       Ship Mode Customer ID  \\\n",
       "0       1  CA-2017-152156  08/11/2017  11/11/2017    Second Class    CG-12520   \n",
       "1       2  CA-2017-152156  08/11/2017  11/11/2017    Second Class    CG-12520   \n",
       "2       3  CA-2017-138688  12/06/2017  16/06/2017    Second Class    DV-13045   \n",
       "3       4  US-2016-108966  11/10/2016  18/10/2016  Standard Class    SO-20335   \n",
       "4       5  US-2016-108966  11/10/2016  18/10/2016  Standard Class    SO-20335   \n",
       "\n",
       "     Customer Name    Segment        Country             City       State  \\\n",
       "0      Claire Gute   Consumer  United States        Henderson    Kentucky   \n",
       "1      Claire Gute   Consumer  United States        Henderson    Kentucky   \n",
       "2  Darrin Van Huff  Corporate  United States      Los Angeles  California   \n",
       "3   Sean O'Donnell   Consumer  United States  Fort Lauderdale     Florida   \n",
       "4   Sean O'Donnell   Consumer  United States  Fort Lauderdale     Florida   \n",
       "\n",
       "   Postal Code Region       Product ID         Category Sub-Category  \\\n",
       "0      42420.0  South  FUR-BO-10001798        Furniture    Bookcases   \n",
       "1      42420.0  South  FUR-CH-10000454        Furniture       Chairs   \n",
       "2      90036.0   West  OFF-LA-10000240  Office Supplies       Labels   \n",
       "3      33311.0  South  FUR-TA-10000577        Furniture       Tables   \n",
       "4      33311.0  South  OFF-ST-10000760  Office Supplies      Storage   \n",
       "\n",
       "                                        Product Name     Sales  \n",
       "0                  Bush Somerset Collection Bookcase  261.9600  \n",
       "1  Hon Deluxe Fabric Upholstered Stacking Chairs,...  731.9400  \n",
       "2  Self-Adhesive Address Labels for Typewriters b...   14.6200  \n",
       "3      Bretford CR4500 Series Slim Rectangular Table  957.5775  \n",
       "4                     Eldon Fold 'N Roll Cart System   22.3680  "
      ]
     },
     "execution_count": 10,
     "metadata": {},
     "output_type": "execute_result"
    }
   ],
   "source": [
    "df.head()"
   ]
  },
  {
   "cell_type": "code",
   "execution_count": 12,
   "id": "a19fbd2e-7787-4281-ae3a-3895905512f1",
   "metadata": {},
   "outputs": [
    {
     "name": "stdout",
     "output_type": "stream",
     "text": [
      "<class 'pandas.core.frame.DataFrame'>\n",
      "RangeIndex: 9800 entries, 0 to 9799\n",
      "Data columns (total 18 columns):\n",
      " #   Column         Non-Null Count  Dtype  \n",
      "---  ------         --------------  -----  \n",
      " 0   Row ID         9800 non-null   int64  \n",
      " 1   Order ID       9800 non-null   object \n",
      " 2   Order Date     9800 non-null   object \n",
      " 3   Ship Date      9800 non-null   object \n",
      " 4   Ship Mode      9800 non-null   object \n",
      " 5   Customer ID    9800 non-null   object \n",
      " 6   Customer Name  9800 non-null   object \n",
      " 7   Segment        9800 non-null   object \n",
      " 8   Country        9800 non-null   object \n",
      " 9   City           9800 non-null   object \n",
      " 10  State          9800 non-null   object \n",
      " 11  Postal Code    9789 non-null   float64\n",
      " 12  Region         9800 non-null   object \n",
      " 13  Product ID     9800 non-null   object \n",
      " 14  Category       9800 non-null   object \n",
      " 15  Sub-Category   9800 non-null   object \n",
      " 16  Product Name   9800 non-null   object \n",
      " 17  Sales          9800 non-null   float64\n",
      "dtypes: float64(2), int64(1), object(15)\n",
      "memory usage: 1.3+ MB\n"
     ]
    }
   ],
   "source": [
    "df.info()"
   ]
  },
  {
   "cell_type": "code",
   "execution_count": 16,
   "id": "30a997b4-2f9b-4cc8-bf54-31f12c1d8c5b",
   "metadata": {},
   "outputs": [],
   "source": [
    "#Postal code column is in float and needs to be change to int\n",
    "df [\"Postal Code\"].fillna(0, inplace = True) #Filling null values\n",
    "df [\"Postal Code\"] = df[\"Postal Code\"].astype(int)"
   ]
  },
  {
   "cell_type": "code",
   "execution_count": 18,
   "id": "2881b773-3599-4580-8a7a-f8cace256e9d",
   "metadata": {},
   "outputs": [
    {
     "name": "stdout",
     "output_type": "stream",
     "text": [
      "<class 'pandas.core.frame.DataFrame'>\n",
      "RangeIndex: 9800 entries, 0 to 9799\n",
      "Data columns (total 18 columns):\n",
      " #   Column         Non-Null Count  Dtype  \n",
      "---  ------         --------------  -----  \n",
      " 0   Row ID         9800 non-null   int64  \n",
      " 1   Order ID       9800 non-null   object \n",
      " 2   Order Date     9800 non-null   object \n",
      " 3   Ship Date      9800 non-null   object \n",
      " 4   Ship Mode      9800 non-null   object \n",
      " 5   Customer ID    9800 non-null   object \n",
      " 6   Customer Name  9800 non-null   object \n",
      " 7   Segment        9800 non-null   object \n",
      " 8   Country        9800 non-null   object \n",
      " 9   City           9800 non-null   object \n",
      " 10  State          9800 non-null   object \n",
      " 11  Postal Code    9800 non-null   int64  \n",
      " 12  Region         9800 non-null   object \n",
      " 13  Product ID     9800 non-null   object \n",
      " 14  Category       9800 non-null   object \n",
      " 15  Sub-Category   9800 non-null   object \n",
      " 16  Product Name   9800 non-null   object \n",
      " 17  Sales          9800 non-null   float64\n",
      "dtypes: float64(1), int64(2), object(15)\n",
      "memory usage: 1.3+ MB\n"
     ]
    }
   ],
   "source": [
    "df.info()"
   ]
  },
  {
   "cell_type": "code",
   "execution_count": null,
   "id": "bafa2dac-dc4f-43f9-a725-2359067bc179",
   "metadata": {},
   "outputs": [],
   "source": [
    "#Checking for duplicates\n",
    "if df.duplicated().sum() > 0: #\n",
    "    print(\"duplicates exists\")\n",
    "else:\n",
    "    print(\"No duplicates found\")"
   ]
  },
  {
   "cell_type": "code",
   "execution_count": 41,
   "id": "0954c642-358a-476e-9703-0780cda6fa8d",
   "metadata": {},
   "outputs": [
    {
     "name": "stdout",
     "output_type": "stream",
     "text": [
      "['Consumer' 'Corporate' 'Home Office']\n"
     ]
    }
   ],
   "source": [
    "#Checking for the types of customers we have.\n",
    "#creating a new variable\n",
    "types_of_customers = df['Segment'].unique()\n",
    "print(types_of_customers)"
   ]
  },
  {
   "cell_type": "code",
   "execution_count": 83,
   "id": "c089880b-3041-4cb9-b70d-1cfb85ae7fc2",
   "metadata": {},
   "outputs": [
    {
     "name": "stdout",
     "output_type": "stream",
     "text": [
      "  Type Of Customer  count\n",
      "0         Consumer   5101\n",
      "1        Corporate   2953\n",
      "2      Home Office   1746\n"
     ]
    },
    {
     "data": {
      "text/plain": [
       "([<matplotlib.patches.Wedge at 0x13b8f93a0>,\n",
       "  <matplotlib.patches.Wedge at 0x13b8d9370>,\n",
       "  <matplotlib.patches.Wedge at 0x13b8f9b20>],\n",
       " [Text(-0.07082911608159115, 1.0977172843292122, 'Consumer'),\n",
       "  Text(-0.5228074775852011, -0.9678183411059121, 'Corporate'),\n",
       "  Text(0.9321462996405261, -0.584040474681742, 'Home Office')],\n",
       " [Text(-0.038634063317231536, 0.5987548823613884, '52.1%'),\n",
       "  Text(-0.28516771504647326, -0.5279009133304975, '30.1%'),\n",
       "  Text(0.5084434361675596, -0.31856753164458657, '17.8%')])"
      ]
     },
     "execution_count": 83,
     "metadata": {},
     "output_type": "execute_result"
    },
    {
     "data": {
      "image/png": "[encoded data removed]",
      "text/plain": [
       "<Figure size 640x480 with 1 Axes>"
      ]
     },
     "metadata": {},
     "output_type": "display_data"
    }
   ],
   "source": [
    "#I want to count the numbers of customers in each 3 segments\n",
    "numbers_of_customers = df['Segment'].value_counts().reset_index()\n",
    "\n",
    "#Renaming the Segment column to Type_of_customers for better understanding\n",
    "numbers_of_customers = numbers_of_customers.rename(columns={'Segment' : 'Type Of Customer'})\n",
    "print(numbers_of_customers)\n",
    "\n",
    "#Ploting a Piechart visualization to view the numbers of customers better.\n",
    "plt.pie(numbers_of_customers['count'], labels=numbers_of_customers['Type Of Customer'], autopct='%1.1f%%')"
   ]
  },
  {
   "cell_type": "code",
   "execution_count": 81,
   "id": "54a41708-1c95-48a3-b9b4-a2dc7f35be5d",
   "metadata": {},
   "outputs": [
    {
     "name": "stdout",
     "output_type": "stream",
     "text": [
      "  Type Of Customers   Total Sales\n",
      "0          Consumer  1.148061e+06\n",
      "1         Corporate  6.884941e+05\n",
      "2       Home Office  4.249822e+05\n"
     ]
    },
    {
     "data": {
      "text/plain": [
       "([<matplotlib.patches.Wedge at 0x13b77f4d0>,\n",
       "  <matplotlib.patches.Wedge at 0x13b77e5a0>,\n",
       "  <matplotlib.patches.Wedge at 0x13b685760>],\n",
       " [Text(-0.026420839765541018, 1.0996826538715994, 'Consumer'),\n",
       "  Text(-0.5902005886829921, -0.9282581888236967, 'Corporate'),\n",
       "  Text(0.913814451312435, -0.612326014940206, 'Home Office')],\n",
       " [Text(-0.014411367144840554, 0.5998269021117814, '50.8%'),\n",
       "  Text(-0.3219275938270865, -0.5063226484492891, '30.4%'),\n",
       "  Text(0.49844424617041905, -0.33399600814920327, '18.8%')])"
      ]
     },
     "execution_count": 81,
     "metadata": {},
     "output_type": "execute_result"
    },
    {
     "data": {
      "image/png": "[encoded data removed]",
      "text/plain": [
       "<Figure size 640x480 with 1 Axes>"
      ]
     },
     "metadata": {},
     "output_type": "display_data"
    }
   ],
   "source": [
    "#How much sales each segment makes in total\n",
    "sales_per_segment = df.groupby('Segment')['Sales'].sum().reset_index()\n",
    "sales_per_segment = sales_per_segment.rename(columns={'Segment' : 'Type Of Customers', 'Sales' : 'Total Sales'})\n",
    "print(sales_per_segment)\n",
    "\n",
    "#Ploting a Piechart visualization to view the Total Sales of each segments.\n",
    "plt.pie(sales_per_segment['Total Sales'], labels=sales_per_segment['Type Of Customers'], autopct='%1.1f%%')"
   ]
  },
  {
   "cell_type": "code",
   "execution_count": 93,
   "id": "59455d72-6e77-445d-a038-5737940eefa3",
   "metadata": {},
   "outputs": [
    {
     "name": "stdout",
     "output_type": "stream",
     "text": [
      "   Customer ID        Customer Name      Segment  Total Orders\n",
      "0     WB-21850        William Brown     Consumer            35\n",
      "1     PP-18955           Paul Prost  Home Office            34\n",
      "2     MA-17560         Matt Abelman  Home Office            34\n",
      "3     JL-15835             John Lee     Consumer            33\n",
      "4     CK-12205  Chloris Kastensmidt     Consumer            32\n",
      "5     SV-20365          Seth Vernon     Consumer            32\n",
      "6     JD-15895     Jonathan Doherty    Corporate            32\n",
      "7     AP-10915       Arthur Prichep     Consumer            31\n",
      "8     ZC-21910     Zuschuss Carroll     Consumer            31\n",
      "9     EP-13915           Emily Phan     Consumer            31\n",
      "10    LC-16870        Lena Cacioppo     Consumer            30\n",
      "11    Dp-13240          Dean percer  Home Office            29\n",
      "12    BM-11650           Brian Moss    Corporate            29\n",
      "13    GT-14710            Greg Tran     Consumer            29\n",
      "14    KL-16645         Ken Lonsdale     Consumer            29\n",
      "15    CS-12250      Chris Selesnick    Corporate            28\n",
      "16    KM-16720         Kunst Miller     Consumer            28\n",
      "17    CL-12565          Clay Ludtke     Consumer            28\n",
      "18    KD-16495        Keith Dawkins    Corporate            28\n",
      "19    XP-21865         Xylona Preis     Consumer            28\n"
     ]
    }
   ],
   "source": [
    "#I want to know our customers by the order frequencies, so has to know how to maintain/increase customer's satisfactions.\n",
    "\n",
    "#EDA to know the columns to use for my analysis\n",
    "df.head(3)\n",
    "\n",
    "#Creating a new variable to know customers and their total orders\n",
    "customers_order_frequency = df.groupby(['Customer ID', 'Customer Name', 'Segment'])['Order ID'].count().reset_index()\n",
    "customers_order_frequency.rename(columns={'Order ID' : 'Total Orders'}, inplace = True)\n",
    "repeat_customers = customers_order_frequency[customers_order_frequency['Total Orders'] >= 1].sort_values(by='Total Orders', ascending = False)\n",
    "\n",
    "print(repeat_customers.head(20).reset_index(drop=True))\n",
    "\n",
    "\n"
   ]
  },
  {
   "cell_type": "code",
   "execution_count": 95,
   "id": "ba60d279-9e12-4c81-841e-01f0a744b759",
   "metadata": {},
   "outputs": [
    {
     "name": "stdout",
     "output_type": "stream",
     "text": [
      "   Customer ID       Customer Name      Segment      Sales\n",
      "0     SM-20320         Sean Miller  Home Office  25043.050\n",
      "1     TC-20980        Tamara Chand    Corporate  19052.218\n",
      "2     RB-19360        Raymond Buch     Consumer  15117.339\n",
      "3     TA-21385        Tom Ashbrook  Home Office  14595.620\n",
      "4     AB-10105       Adrian Barton     Consumer  14473.571\n",
      "5     KL-16645        Ken Lonsdale     Consumer  14175.229\n",
      "6     SC-20095        Sanjit Chand     Consumer  14142.334\n",
      "7     HL-15040        Hunter Lopez     Consumer  12873.298\n",
      "8     SE-20110        Sanjit Engle     Consumer  12209.438\n",
      "9     CC-12370  Christopher Conant     Consumer  12129.072\n",
      "10    TS-21370        Todd Sumrall    Corporate  11891.751\n",
      "11    GT-14710           Greg Tran     Consumer  11820.120\n",
      "12    BM-11140        Becky Martin     Consumer  11789.630\n",
      "13    SV-20365         Seth Vernon     Consumer  11470.950\n",
      "14    CJ-12010     Caroline Jumper     Consumer  11164.974\n",
      "15    CL-12565         Clay Ludtke     Consumer  10880.546\n",
      "16    ME-17320       Maria Etezadi  Home Office  10663.728\n",
      "17    KF-16285      Karen Ferguson  Home Office  10604.266\n",
      "18    BS-11365        Bill Shonely    Corporate  10501.653\n",
      "19    EH-13765        Edward Hooks    Corporate   9940.380\n"
     ]
    }
   ],
   "source": [
    "#I want to identify our top-spenders\n",
    "\n",
    "#creating a new varible\n",
    "customer_sales= df.groupby(['Customer ID', 'Customer Name', 'Segment'])['Sales'].sum().reset_index()\n",
    "top_spenders= customer_sales.sort_values(by='Sales', ascending=False)\n",
    "\n",
    "print(top_spenders.head(20).reset_index(drop=True))"
   ]
  },
  {
   "cell_type": "markdown",
   "id": "961392c9-0fcd-4909-96e3-261d794032e9",
   "metadata": {},
   "source": [
    "#1 Customer Segment Analysis: Volume vs. Value Dynamics\n",
    "\n",
    "My segmentation analysis reveals a compelling paradox in customer behavior across the three primary segments:\n",
    "Consumer, Corporate, and Home Office. \n",
    "It demonstrates a clear distinction between transaction volume metrics and revenue performance indicators.\n",
    "\n",
    "#2 Segment Composition and Scale:\n",
    "The Consumer segment dominates our customer base, representing the largest portion of our clientele,\n",
    "while the Home Office segment constitutes the smallest customer group.\n",
    "This distribution pattern suggests that our business model has broad appeal to individual consumers.\n",
    "\n",
    "#3 Revenue Performance Analysis:\n",
    "Despite the Consumer segment generating the highest absolute sales volume, the Home Office segment demonstrates superior per-transaction value. \n",
    "\n",
    "#4 Strategic Implications:\n",
    "My analysis reveals that transaction frequency serves as a poor proxy for customer value identification.\n",
    "The Home Office segment, despite being our smallest customer base with the lowest transaction frequency, delivers the highest per-customer revenue contribution. \n",
    " This suggests opportunities for targeted retention strategies for Home Office customers and potential upselling initiatives for the high-frequency Consumer segment to increase their transaction values. \n",
    " \n",
    " Marketing and sales teams should cultivate and expand the more profitable Home Office segment. Increase the revenue growth of the consumer segment and increase the frequency and revenue of the corporate segment too.\n"
   ]
  }
 ],
 "metadata": {
  "kernelspec": {
   "display_name": "Python [conda env:base] *",
   "language": "python",
   "name": "conda-base-py"
  },
  "language_info": {
   "codemirror_mode": {
    "name": "ipython",
    "version": 3
   },
   "file_extension": ".py",
   "mimetype": "text/x-python",
   "name": "python",
   "nbconvert_exporter": "python",
   "pygments_lexer": "ipython3",
   "version": "3.12.7"
  }
 },
 "nbformat": 4,
 "nbformat_minor": 5
}
